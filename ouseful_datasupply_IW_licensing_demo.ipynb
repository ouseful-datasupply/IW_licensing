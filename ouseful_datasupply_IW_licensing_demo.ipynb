{
 "cells": [
  {
   "cell_type": "markdown",
   "metadata": {},
   "source": [
    "# IW Licensing Scraper example\n",
    "\n",
    "Example of using the scraper."
   ]
  },
  {
   "cell_type": "code",
   "execution_count": null,
   "metadata": {},
   "outputs": [],
   "source": [
    "from ouseful_iw_licensing.scraper import IWlicensingAPI"
   ]
  },
  {
   "cell_type": "code",
   "execution_count": null,
   "metadata": {},
   "outputs": [],
   "source": [
    "iw = IWlicensingAPI()\n",
    "\n",
    "# BY default, we only grab the first page\n",
    "iw.scrape_licenses(firstpageonly=False)"
   ]
  },
  {
   "cell_type": "code",
   "execution_count": null,
   "metadata": {},
   "outputs": [],
   "source": [
    "iw2 = IWlicensingAPI()\n",
    "\n",
    "jsession_id, csrf_token = iw2.get_csrf_credentials(typ=\"LicencingApplication\")"
   ]
  },
  {
   "cell_type": "code",
   "execution_count": null,
   "metadata": {},
   "outputs": [],
   "source": [
    "response = iw2.make_request(jsession_id, csrf_token, url=None)"
   ]
  },
  {
   "cell_type": "code",
   "execution_count": null,
   "metadata": {},
   "outputs": [],
   "source": [
    "applications = iw2.parse_response(response)\n",
    "applications"
   ]
  },
  {
   "cell_type": "code",
   "execution_count": null,
   "metadata": {},
   "outputs": [],
   "source": [
    "# Inspect a class method\n",
    "#import inspect\n",
    "#print(inspect.getsource(iw2.parse_response))"
   ]
  },
  {
   "cell_type": "code",
   "execution_count": null,
   "metadata": {},
   "outputs": [],
   "source": [
    "import urllib.parse\n",
    "\n",
    "x = \"sds(ds)-13/02\"\n",
    "y = urllib.parse.quote_plus(x)\n",
    "z= urllib.parse.unquote(y)\n",
    "\n",
    "\n",
    "x,y,z"
   ]
  },
  {
   "cell_type": "code",
   "execution_count": null,
   "metadata": {},
   "outputs": [],
   "source": [
    "params = {\"date(receivedStart)\":\"13/02/2024\",\"date(receivedEnd)\":\"13/04/2024\",\"searchType\":\"Licencing\"}\n",
    "\n",
    "urllib.parse.urlencode(params)"
   ]
  },
  {
   "cell_type": "code",
   "execution_count": null,
   "metadata": {},
   "outputs": [],
   "source": [
    "licensing_example_params = {\n",
    "    \"date(issuedStart):\": \"13/02/2024\",\n",
    "    \"date(issuedEnd)\": \"13/04/2024\",\n",
    "    \"searchType\": \"Licencing\",\n",
    "}\n",
    "\n",
    "licensing_application_example_params = {\n",
    "    \"date(receivedStart)\": \"13/02/2024\",\n",
    "    \"date(receivedEnd)\": \"13/04/2024\",\n",
    "    \"searchType\": \"LicencingApplication\",\n",
    "}"
   ]
  },
  {
   "cell_type": "code",
   "execution_count": null,
   "metadata": {},
   "outputs": [],
   "source": [
    "from ouseful_iw_licensing.scraper import IWlicensingAPI\n",
    "iw = IWlicensingAPI()\n",
    "\n",
    "licenses = iw.scrape_licenses(licensing_example_params)\n",
    "licenses"
   ]
  },
  {
   "cell_type": "code",
   "execution_count": null,
   "metadata": {},
   "outputs": [],
   "source": [
    "import pandas as pd\n",
    "\n",
    "pd.DataFrame(licenses)"
   ]
  },
  {
   "cell_type": "code",
   "execution_count": null,
   "metadata": {},
   "outputs": [],
   "source": [
    "license_applications = iw.scrape_licenses(licensing_application_example_params)\n",
    "license_applications"
   ]
  },
  {
   "cell_type": "code",
   "execution_count": null,
   "metadata": {},
   "outputs": [],
   "source": [
    "pd.DataFrame(license_applications)"
   ]
  },
  {
   "cell_type": "code",
   "execution_count": null,
   "metadata": {},
   "outputs": [],
   "source": [
    "import pandas as pd\n",
    "\n",
    "df1 = pd.DataFrame([{\"a\":1, \"e\":2}])\n",
    "df2 = pd.DataFrame([{\"a\":1}, {\"a\":1, \"b\":2}, {\"c\":3}])\n",
    "pd.concat([df1, df2], ignore_index=True)"
   ]
  },
  {
   "cell_type": "code",
   "execution_count": null,
   "metadata": {},
   "outputs": [],
   "source": []
  }
 ],
 "metadata": {
  "kernelspec": {
   "display_name": "Python 3",
   "language": "python",
   "name": "python3"
  },
  "language_info": {
   "codemirror_mode": {
    "name": "ipython",
    "version": 3
   },
   "file_extension": ".py",
   "mimetype": "text/x-python",
   "name": "python",
   "nbconvert_exporter": "python",
   "pygments_lexer": "ipython3",
   "version": "3.11.0"
  }
 },
 "nbformat": 4,
 "nbformat_minor": 2
}
