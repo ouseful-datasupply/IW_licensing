{
 "cells": [
  {
   "cell_type": "markdown",
   "metadata": {},
   "source": [
    "# IW Licensing Scraper example\n",
    "\n",
    "Example of using the scraper."
   ]
  },
  {
   "cell_type": "code",
   "execution_count": null,
   "metadata": {},
   "outputs": [],
   "source": [
    "from ouseful_iw_licensing.scraper import IWlicensingAPI"
   ]
  },
  {
   "cell_type": "code",
   "execution_count": null,
   "metadata": {},
   "outputs": [],
   "source": [
    "iw = IWlicensingAPI()\n",
    "\n",
    "# BY default, we only grab the first page\n",
    "iw.scrape_licenses(firstpageonly=False)"
   ]
  },
  {
   "cell_type": "code",
   "execution_count": null,
   "metadata": {},
   "outputs": [],
   "source": [
    "iw2 = IWlicensingAPI()\n",
    "\n",
    "jsession_id, csrf_token = iw2.get_csrf_credentials(typ=\"LicencingApplication\")"
   ]
  },
  {
   "cell_type": "code",
   "execution_count": null,
   "metadata": {},
   "outputs": [],
   "source": [
    "response = iw2.make_request(jsession_id, csrf_token, url=None)"
   ]
  },
  {
   "cell_type": "code",
   "execution_count": null,
   "metadata": {},
   "outputs": [],
   "source": [
    "applications = iw2.parse_response(response)\n",
    "applications"
   ]
  },
  {
   "cell_type": "code",
   "execution_count": null,
   "metadata": {},
   "outputs": [],
   "source": [
    "# Inspect a class method\n",
    "#import inspect\n",
    "#print(inspect.getsource(iw2.parse_response))"
   ]
  },
  {
   "cell_type": "code",
   "execution_count": null,
   "metadata": {},
   "outputs": [],
   "source": [
    "import urllib.parse\n",
    "\n",
    "x = \"sds(ds)-13/02\"\n",
    "y = urllib.parse.quote_plus(x)\n",
    "z= urllib.parse.unquote(y)\n",
    "\n",
    "\n",
    "x,y,z"
   ]
  },
  {
   "cell_type": "code",
   "execution_count": null,
   "metadata": {},
   "outputs": [],
   "source": [
    "params = {\"date(receivedStart)\":\"13/02/2024\",\"date(receivedEnd)\":\"13/04/2024\",\"searchType\":\"Licencing\"}\n",
    "\n",
    "urllib.parse.urlencode(params)"
   ]
  },
  {
   "cell_type": "code",
   "execution_count": null,
   "metadata": {},
   "outputs": [],
   "source": [
    "licensing_example_params = {\n",
    "    \"date(issuedStart):\": \"13/02/2024\",\n",
    "    \"date(issuedEnd)\": \"13/04/2024\",\n",
    "    \"searchType\": \"Licencing\",\n",
    "}\n",
    "\n",
    "licensing_application_example_params = {\n",
    "    \"date(receivedStart)\": \"13/02/2024\",\n",
    "    \"date(receivedEnd)\": \"13/04/2024\",\n",
    "    \"searchType\": \"LicencingApplication\",\n",
    "}"
   ]
  },
  {
   "cell_type": "code",
   "execution_count": null,
   "metadata": {},
   "outputs": [],
   "source": [
    "from ouseful_iw_licensing.scraper import IWlicensingAPI\n",
    "import pandas as pd\n",
    "\n",
    "iw = IWlicensingAPI()\n",
    "\n",
    "licenses = iw.scrape_licenses(licensing_example_params)\n",
    "licenses_df = pd.DataFrame(licenses)\n",
    "licenses_df.head()"
   ]
  },
  {
   "cell_type": "code",
   "execution_count": null,
   "metadata": {},
   "outputs": [],
   "source": [
    "license_applications = iw.scrape_licenses(licensing_application_example_params)\n",
    "license_applications_df = pd.DataFrame(license_applications)\n",
    "license_applications_df.head()"
   ]
  },
  {
   "cell_type": "markdown",
   "metadata": {},
   "source": [
    "## Seed a CSV collection\n",
    "\n"
   ]
  },
  {
   "cell_type": "code",
   "execution_count": null,
   "metadata": {},
   "outputs": [],
   "source": [
    "from ouseful_iw_licensing.scraper import IWlicensingAPI\n",
    "import pandas as pd\n",
    "\n",
    "iw = IWlicensingAPI()\n",
    "\n",
    "month_num = 2\n",
    "first_day, last_day = iw.get_month_dates(month_num, 2025, formatted=True)\n",
    "params = iw.licensing_params_from_date_startend(first_day, last_day)\n",
    "params"
   ]
  },
  {
   "cell_type": "code",
   "execution_count": null,
   "metadata": {},
   "outputs": [],
   "source": [
    "params = {'date(issuedStart)': '01/02/2025',\n",
    " 'date(issuedEnd)': '28/02/2025',\n",
    " 'searchType': 'Licencing'}\n",
    "\n",
    "licenses3 = iw.scrape_licenses(params, firstpageonly=False, getSummary=True)\n",
    "licenses3 = pd.DataFrame(licenses3)\n",
    "licenses3\n",
    "licenses3.to_csv(\"iwlicenses-feb2025.csv\", index=False)\n"
   ]
  },
  {
   "cell_type": "code",
   "execution_count": null,
   "metadata": {},
   "outputs": [],
   "source": [
    "licenses3"
   ]
  },
  {
   "cell_type": "code",
   "execution_count": null,
   "metadata": {},
   "outputs": [],
   "source": [
    "default_na_values = [\n",
    "    \"\", \"#N/A\", \"#N/A N/A\", \"#NA\", \"-1.#IND\", \"-1.#QNAN\", \"-NaN\", \"-nan\", \n",
    "    \"1.#IND\", \"1.#QNAN\", \"<NA>\", \"NA\", \"NULL\", \"NaN\", \"None\", \"n/a\", \"nan\", \"null\"\n",
    "]\n",
    "\n",
    "licenses3b = pd.read_csv(\n",
    "    \"iwlicenses-feb2025.csv\", na_values=default_na_values, keep_default_na=False\n",
    ")\n",
    "# for col in [\"address\", \"status\", \"applicant_name\"]:\n",
    "#    licenses3b[col] = licenses3b[col].fillna(\"N/A\")"
   ]
  },
  {
   "cell_type": "code",
   "execution_count": null,
   "metadata": {},
   "outputs": [],
   "source": [
    "pd.testing.assert_frame_equal(licenses3, licenses3b)"
   ]
  },
  {
   "cell_type": "code",
   "execution_count": null,
   "metadata": {},
   "outputs": [],
   "source": [
    "# Maybe only \"live\" applications are in the LicencingApplication results\n",
    "# which means it's sensible to scrape regularly\n",
    "params = {\n",
    "    \"date(receivedStart)\": \"01/01/2024\",\n",
    "    \"date(receivedEnd)\": \"31/12/2024\",\n",
    "    \"searchType\": \"LicencingApplication\",\n",
    "}\n",
    "\n",
    "licenseapps3 = iw.scrape_licenses(params, firstpageonly=False, getSummary=True)\n",
    "licenseapps3 = pd.DataFrame(licenseapps3)\n",
    "licenseapps3\n",
    "licenseapps3.to_csv(\"iwlicenseApplications-2024.csv\", index=False)"
   ]
  },
  {
   "cell_type": "code",
   "execution_count": null,
   "metadata": {},
   "outputs": [],
   "source": [
    "licenseapps3"
   ]
  },
  {
   "cell_type": "code",
   "execution_count": null,
   "metadata": {},
   "outputs": [],
   "source": [
    "license_applications_df = pd.DataFrame(license_applications)\n",
    "license_applications_df"
   ]
  },
  {
   "cell_type": "code",
   "execution_count": null,
   "metadata": {},
   "outputs": [],
   "source": [
    "license_applications_df.to_csv(\"iwlicenses_janFeb_2025.csv\", index=False)"
   ]
  },
  {
   "cell_type": "code",
   "execution_count": null,
   "metadata": {},
   "outputs": [],
   "source": [
    "len(license_applications_df)"
   ]
  },
  {
   "cell_type": "code",
   "execution_count": null,
   "metadata": {},
   "outputs": [],
   "source": [
    "ref1 = set(license_applications_df['ref_no'].to_list())\n",
    "ref2 = set(license_applications_df2[\"ref_no\"].to_list())\n",
    "ref1-ref2"
   ]
  },
  {
   "cell_type": "code",
   "execution_count": null,
   "metadata": {},
   "outputs": [],
   "source": [
    "first_day, last_day = iw.get_month_dates(month_num, 2025, formatted=True)\n",
    "first_day, last_day"
   ]
  },
  {
   "cell_type": "code",
   "execution_count": null,
   "metadata": {},
   "outputs": [],
   "source": [
    "iw.licensing_params_from_date_startend(first_day, last_day)"
   ]
  },
  {
   "cell_type": "code",
   "execution_count": null,
   "metadata": {},
   "outputs": [],
   "source": [
    "pd.to_datetime(\"01/02/2025\", dayfirst=True)"
   ]
  },
  {
   "cell_type": "code",
   "execution_count": null,
   "metadata": {},
   "outputs": [],
   "source": [
    "pd.read_csv(\"iwlicenses_janFeb_2025.csv\")"
   ]
  },
  {
   "cell_type": "code",
   "execution_count": null,
   "metadata": {},
   "outputs": [],
   "source": []
  }
 ],
 "metadata": {
  "kernelspec": {
   "display_name": "Python 3",
   "language": "python",
   "name": "python3"
  },
  "language_info": {
   "codemirror_mode": {
    "name": "ipython",
    "version": 3
   },
   "file_extension": ".py",
   "mimetype": "text/x-python",
   "name": "python",
   "nbconvert_exporter": "python",
   "pygments_lexer": "ipython3",
   "version": "3.11.0"
  }
 },
 "nbformat": 4,
 "nbformat_minor": 2
}
